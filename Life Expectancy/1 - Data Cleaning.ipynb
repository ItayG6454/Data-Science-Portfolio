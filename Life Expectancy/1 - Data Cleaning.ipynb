{
 "cells": [
  {
   "cell_type": "markdown",
   "metadata": {
    "pycharm": {
     "name": "#%% md\n"
    }
   },
   "source": [
    "# Data Cleaning\n",
    "\n"
   ]
  },
  {
   "cell_type": "markdown",
   "metadata": {
    "pycharm": {
     "name": "#%% md\n"
    }
   },
   "source": [
    "## Basic EDA\n",
    "Observing columns and their datatypes:"
   ]
  },
  {
   "cell_type": "code",
   "execution_count": 1,
   "metadata": {
    "pycharm": {
     "name": "#%%\n"
    }
   },
   "outputs": [
    {
     "data": {
      "text/plain": "       Country  Year      Status  Life expectancy   Adult Mortality  \\\n0  Afghanistan  2015  Developing              65.0            263.0   \n1  Afghanistan  2014  Developing              59.9            271.0   \n2  Afghanistan  2013  Developing              59.9            268.0   \n3  Afghanistan  2012  Developing              59.5            272.0   \n4  Afghanistan  2011  Developing              59.2            275.0   \n\n   infant deaths  Alcohol  percentage expenditure  Hepatitis B  Measles   ...  \\\n0             62     0.01               71.279624         65.0      1154  ...   \n1             64     0.01               73.523582         62.0       492  ...   \n2             66     0.01               73.219243         64.0       430  ...   \n3             69     0.01               78.184215         67.0      2787  ...   \n4             71     0.01                7.097109         68.0      3013  ...   \n\n   Polio  Total expenditure  Diphtheria    HIV/AIDS         GDP  Population  \\\n0    6.0               8.16         65.0        0.1  584.259210  33736494.0   \n1   58.0               8.18         62.0        0.1  612.696514    327582.0   \n2   62.0               8.13         64.0        0.1  631.744976  31731688.0   \n3   67.0               8.52         67.0        0.1  669.959000   3696958.0   \n4   68.0               7.87         68.0        0.1   63.537231   2978599.0   \n\n    thinness  1-19 years   thinness 5-9 years  \\\n0                   17.2                 17.3   \n1                   17.5                 17.5   \n2                   17.7                 17.7   \n3                   17.9                 18.0   \n4                   18.2                 18.2   \n\n   Income composition of resources  Schooling  \n0                            0.479       10.1  \n1                            0.476       10.0  \n2                            0.470        9.9  \n3                            0.463        9.8  \n4                            0.454        9.5  \n\n[5 rows x 22 columns]",
      "text/html": "<div>\n<style scoped>\n    .dataframe tbody tr th:only-of-type {\n        vertical-align: middle;\n    }\n\n    .dataframe tbody tr th {\n        vertical-align: top;\n    }\n\n    .dataframe thead th {\n        text-align: right;\n    }\n</style>\n<table border=\"1\" class=\"dataframe\">\n  <thead>\n    <tr style=\"text-align: right;\">\n      <th></th>\n      <th>Country</th>\n      <th>Year</th>\n      <th>Status</th>\n      <th>Life expectancy</th>\n      <th>Adult Mortality</th>\n      <th>infant deaths</th>\n      <th>Alcohol</th>\n      <th>percentage expenditure</th>\n      <th>Hepatitis B</th>\n      <th>Measles</th>\n      <th>...</th>\n      <th>Polio</th>\n      <th>Total expenditure</th>\n      <th>Diphtheria</th>\n      <th>HIV/AIDS</th>\n      <th>GDP</th>\n      <th>Population</th>\n      <th>thinness  1-19 years</th>\n      <th>thinness 5-9 years</th>\n      <th>Income composition of resources</th>\n      <th>Schooling</th>\n    </tr>\n  </thead>\n  <tbody>\n    <tr>\n      <th>0</th>\n      <td>Afghanistan</td>\n      <td>2015</td>\n      <td>Developing</td>\n      <td>65.0</td>\n      <td>263.0</td>\n      <td>62</td>\n      <td>0.01</td>\n      <td>71.279624</td>\n      <td>65.0</td>\n      <td>1154</td>\n      <td>...</td>\n      <td>6.0</td>\n      <td>8.16</td>\n      <td>65.0</td>\n      <td>0.1</td>\n      <td>584.259210</td>\n      <td>33736494.0</td>\n      <td>17.2</td>\n      <td>17.3</td>\n      <td>0.479</td>\n      <td>10.1</td>\n    </tr>\n    <tr>\n      <th>1</th>\n      <td>Afghanistan</td>\n      <td>2014</td>\n      <td>Developing</td>\n      <td>59.9</td>\n      <td>271.0</td>\n      <td>64</td>\n      <td>0.01</td>\n      <td>73.523582</td>\n      <td>62.0</td>\n      <td>492</td>\n      <td>...</td>\n      <td>58.0</td>\n      <td>8.18</td>\n      <td>62.0</td>\n      <td>0.1</td>\n      <td>612.696514</td>\n      <td>327582.0</td>\n      <td>17.5</td>\n      <td>17.5</td>\n      <td>0.476</td>\n      <td>10.0</td>\n    </tr>\n    <tr>\n      <th>2</th>\n      <td>Afghanistan</td>\n      <td>2013</td>\n      <td>Developing</td>\n      <td>59.9</td>\n      <td>268.0</td>\n      <td>66</td>\n      <td>0.01</td>\n      <td>73.219243</td>\n      <td>64.0</td>\n      <td>430</td>\n      <td>...</td>\n      <td>62.0</td>\n      <td>8.13</td>\n      <td>64.0</td>\n      <td>0.1</td>\n      <td>631.744976</td>\n      <td>31731688.0</td>\n      <td>17.7</td>\n      <td>17.7</td>\n      <td>0.470</td>\n      <td>9.9</td>\n    </tr>\n    <tr>\n      <th>3</th>\n      <td>Afghanistan</td>\n      <td>2012</td>\n      <td>Developing</td>\n      <td>59.5</td>\n      <td>272.0</td>\n      <td>69</td>\n      <td>0.01</td>\n      <td>78.184215</td>\n      <td>67.0</td>\n      <td>2787</td>\n      <td>...</td>\n      <td>67.0</td>\n      <td>8.52</td>\n      <td>67.0</td>\n      <td>0.1</td>\n      <td>669.959000</td>\n      <td>3696958.0</td>\n      <td>17.9</td>\n      <td>18.0</td>\n      <td>0.463</td>\n      <td>9.8</td>\n    </tr>\n    <tr>\n      <th>4</th>\n      <td>Afghanistan</td>\n      <td>2011</td>\n      <td>Developing</td>\n      <td>59.2</td>\n      <td>275.0</td>\n      <td>71</td>\n      <td>0.01</td>\n      <td>7.097109</td>\n      <td>68.0</td>\n      <td>3013</td>\n      <td>...</td>\n      <td>68.0</td>\n      <td>7.87</td>\n      <td>68.0</td>\n      <td>0.1</td>\n      <td>63.537231</td>\n      <td>2978599.0</td>\n      <td>18.2</td>\n      <td>18.2</td>\n      <td>0.454</td>\n      <td>9.5</td>\n    </tr>\n  </tbody>\n</table>\n<p>5 rows × 22 columns</p>\n</div>"
     },
     "execution_count": 1,
     "metadata": {},
     "output_type": "execute_result"
    }
   ],
   "source": [
    "import pandas as pd\n",
    "raw_data = pd.read_csv('Life Expectancy Data.csv')\n",
    "raw_data.sample(n=5).head()\n",
    "raw_data.head()\n"
   ]
  },
  {
   "cell_type": "code",
   "execution_count": 2,
   "metadata": {
    "pycharm": {
     "name": "#%%\n"
    }
   },
   "outputs": [
    {
     "data": {
      "text/plain": "Index(['Country', 'Year', 'Status', 'Life expectancy ', 'Adult Mortality',\n       'infant deaths', 'Alcohol', 'percentage expenditure', 'Hepatitis B',\n       'Measles ', ' BMI ', 'under-five deaths ', 'Polio', 'Total expenditure',\n       'Diphtheria ', ' HIV/AIDS', 'GDP', 'Population',\n       ' thinness  1-19 years', ' thinness 5-9 years',\n       'Income composition of resources', 'Schooling'],\n      dtype='object')"
     },
     "execution_count": 2,
     "metadata": {},
     "output_type": "execute_result"
    }
   ],
   "source": [
    "raw_data.columns"
   ]
  },
  {
   "cell_type": "code",
   "execution_count": 3,
   "outputs": [],
   "source": [
    "#raw_data.info()"
   ],
   "metadata": {
    "collapsed": false,
    "pycharm": {
     "name": "#%%\n"
    }
   }
  },
  {
   "cell_type": "markdown",
   "metadata": {
    "pycharm": {
     "name": "#%% md\n"
    }
   },
   "source": [
    "We immediately can see that there are some missing values and some zeros along with 'big' numeric values.\n",
    "In addition, we have countries with 34 population, which is most definitely can't be."
   ]
  },
  {
   "cell_type": "code",
   "execution_count": 4,
   "outputs": [],
   "source": [
    "# pd.options.display.float_format = '{:.2f}'.format\n",
    "# raw_data.describe().T"
   ],
   "metadata": {
    "collapsed": false,
    "pycharm": {
     "name": "#%%\n"
    }
   }
  },
  {
   "cell_type": "markdown",
   "source": [
    "## Data Cleaning"
   ],
   "metadata": {
    "collapsed": false,
    "pycharm": {
     "name": "#%% md\n"
    }
   }
  },
  {
   "cell_type": "markdown",
   "source": [
    "Renaming columns for easy access"
   ],
   "metadata": {
    "collapsed": false,
    "pycharm": {
     "name": "#%% md\n"
    }
   }
  },
  {
   "cell_type": "code",
   "execution_count": 5,
   "outputs": [],
   "source": [
    "raw_data.rename(columns = {'Country':'country',\n",
    "                       'Year':'year',\n",
    "                       'Status':'status',\n",
    "                       'Life expectancy ':'life_expectancy',\n",
    "                       'Adult Mortality':'adult_mortality',\n",
    "                       'infant deaths':'infant_deaths',\n",
    "                       'Alcohol':'alcohol',\n",
    "                       'percentage expenditure':'percentage_expenditure',\n",
    "                       'Hepatitis B':'hepatitis_b',\n",
    "                       'Measles ':'measles',\n",
    "                       ' BMI ':'bmi',\n",
    "                       'under-five deaths ':'under-five deaths',\n",
    "                       'Polio':'polio',\n",
    "                       'Total expenditure':'total_expenditure',\n",
    "                       'Diphtheria ':'diphtheria',\n",
    "                       ' HIV/AIDS':'hiv/aids',\n",
    "                       'GDP':'gdp',\n",
    "                       'Population':'population',\n",
    "                       ' thinness  1-19 years':'thinness_1_19_years',\n",
    "                       ' thinness 5-9 years':'thinness_5_9_years',\n",
    "                       'Income composition of resources':'income_composition_of_resources',\n",
    "                       'Schooling':'schooling'\n",
    "                       }, inplace = True, errors = 'raise')\n"
   ],
   "metadata": {
    "collapsed": false,
    "pycharm": {
     "name": "#%%\n"
    }
   }
  },
  {
   "cell_type": "markdown",
   "source": [
    "## NA's & Outliers & Duplicates"
   ],
   "metadata": {
    "collapsed": false,
    "pycharm": {
     "name": "#%% md\n"
    }
   }
  },
  {
   "cell_type": "markdown",
   "source": [
    "First, checking for duplicates:"
   ],
   "metadata": {
    "collapsed": false,
    "pycharm": {
     "name": "#%% md\n"
    }
   }
  },
  {
   "cell_type": "code",
   "execution_count": 6,
   "outputs": [
    {
     "data": {
      "text/plain": "0"
     },
     "execution_count": 6,
     "metadata": {},
     "output_type": "execute_result"
    }
   ],
   "source": [
    "raw_data.duplicated().sum()"
   ],
   "metadata": {
    "collapsed": false,
    "pycharm": {
     "name": "#%%\n"
    }
   }
  },
  {
   "cell_type": "markdown",
   "source": [
    "Nice, no duplicates!"
   ],
   "metadata": {
    "collapsed": false,
    "pycharm": {
     "name": "#%% md\n"
    }
   }
  },
  {
   "cell_type": "markdown",
   "source": [
    "Secondly, we will take a look of missing data in each row:"
   ],
   "metadata": {
    "collapsed": false,
    "pycharm": {
     "name": "#%% md\n"
    }
   }
  },
  {
   "cell_type": "code",
   "execution_count": 7,
   "outputs": [
    {
     "data": {
      "text/plain": "country                              0\nyear                                 0\nstatus                               0\nlife_expectancy                     10\nadult_mortality                     10\ninfant_deaths                        0\nalcohol                            194\npercentage_expenditure               0\nhepatitis_b                        553\nmeasles                              0\nbmi                                 34\nunder-five deaths                    0\npolio                               19\ntotal_expenditure                  226\ndiphtheria                          19\nhiv/aids                             0\ngdp                                448\npopulation                         652\nthinness_1_19_years                 34\nthinness_5_9_years                  34\nincome_composition_of_resources    167\nschooling                          163\ndtype: int64"
     },
     "execution_count": 7,
     "metadata": {},
     "output_type": "execute_result"
    }
   ],
   "source": [
    "raw_data.isna().sum()"
   ],
   "metadata": {
    "collapsed": false,
    "pycharm": {
     "name": "#%%\n"
    }
   }
  },
  {
   "cell_type": "markdown",
   "source": [
    "Now, in alot of the cases - missing values comes as empty observations (a country without any valuable data). So firstly we want to observe the missing life expectancy:"
   ],
   "metadata": {
    "collapsed": false,
    "pycharm": {
     "name": "#%% md\n"
    }
   }
  },
  {
   "cell_type": "code",
   "execution_count": 8,
   "outputs": [],
   "source": [
    "#print(raw_data[raw_data['life_expectancy'].isnull()])"
   ],
   "metadata": {
    "collapsed": false,
    "pycharm": {
     "name": "#%%\n"
    }
   }
  },
  {
   "cell_type": "markdown",
   "source": [],
   "metadata": {
    "collapsed": false,
    "pycharm": {
     "name": "#%% md\n"
    }
   }
  },
  {
   "cell_type": "markdown",
   "source": [
    "That's good - all of those countries does not have most of their data and relate to same year.So we can drop them without a doubt:"
   ],
   "metadata": {
    "collapsed": false,
    "pycharm": {
     "name": "#%% md\n"
    }
   }
  },
  {
   "cell_type": "code",
   "execution_count": 9,
   "outputs": [],
   "source": [
    "raw_data.drop(raw_data[raw_data['life_expectancy'].isnull()].index, axis=0, inplace=True)"
   ],
   "metadata": {
    "collapsed": false,
    "pycharm": {
     "name": "#%%\n"
    }
   }
  },
  {
   "cell_type": "markdown",
   "source": [
    "### Exploring each variable\n",
    "After droping some rows, we need to recheck which columns still have null values:\n"
   ],
   "metadata": {
    "collapsed": false,
    "pycharm": {
     "name": "#%% md\n"
    }
   }
  },
  {
   "cell_type": "code",
   "execution_count": 10,
   "outputs": [
    {
     "data": {
      "text/plain": "country                              0\nyear                                 0\nstatus                               0\nlife_expectancy                      0\nadult_mortality                      0\ninfant_deaths                        0\nalcohol                            193\npercentage_expenditure               0\nhepatitis_b                        553\nmeasles                              0\nbmi                                 32\nunder-five deaths                    0\npolio                               19\ntotal_expenditure                  226\ndiphtheria                          19\nhiv/aids                             0\ngdp                                443\npopulation                         644\nthinness_1_19_years                 32\nthinness_5_9_years                  32\nincome_composition_of_resources    160\nschooling                          160\ndtype: int64"
     },
     "execution_count": 10,
     "metadata": {},
     "output_type": "execute_result"
    }
   ],
   "source": [
    "raw_data.isna().sum()"
   ],
   "metadata": {
    "collapsed": false,
    "pycharm": {
     "name": "#%%\n"
    }
   }
  },
  {
   "cell_type": "markdown",
   "source": [
    "#### Alcohol\n"
   ],
   "metadata": {
    "collapsed": false,
    "pycharm": {
     "name": "#%% md\n"
    }
   }
  },
  {
   "cell_type": "code",
   "execution_count": 11,
   "outputs": [],
   "source": [
    "#print(np.unique(raw_data[raw_data['alcohol'].isnull()]['year'],return_counts=True))\n",
    "column = ['alcohol']\n",
    "raw_data.loc[:,column] = raw_data.loc[:,column].bfill()"
   ],
   "metadata": {
    "collapsed": false,
    "pycharm": {
     "name": "#%%\n"
    }
   }
  },
  {
   "cell_type": "markdown",
   "source": [
    "All missing values in alcohol were of year 2015, so we could just back-fill them."
   ],
   "metadata": {
    "collapsed": false,
    "pycharm": {
     "name": "#%% md\n"
    }
   }
  },
  {
   "cell_type": "markdown",
   "source": [
    "#### Hepatitis B"
   ],
   "metadata": {
    "collapsed": false,
    "pycharm": {
     "name": "#%% md\n"
    }
   }
  },
  {
   "cell_type": "code",
   "execution_count": 12,
   "outputs": [],
   "source": [
    "# raw_data[raw_data['hepatitis_b'].isnull()].describe().T\n",
    "# raw_data[raw_data['hepatitis_b'].isnull()]"
   ],
   "metadata": {
    "collapsed": false,
    "pycharm": {
     "name": "#%%\n"
    }
   }
  },
  {
   "cell_type": "markdown",
   "source": [
    "All of those observations relate to **developing** countries. Hence, we can back-fill them *in respect to developing countries*:"
   ],
   "metadata": {
    "collapsed": false,
    "pycharm": {
     "name": "#%% md\n"
    }
   }
  },
  {
   "cell_type": "code",
   "execution_count": 13,
   "outputs": [],
   "source": [
    "developing_mean = raw_data[raw_data['status']=='Developing'].mean(skipna=True, numeric_only=True).hepatitis_b\n",
    "#back-filling:\n",
    "hep_na_ind = raw_data[(raw_data['status']=='Developing') & (raw_data['hepatitis_b'].isnull())].index\n",
    "for row in hep_na_ind:\n",
    "    raw_data.at[row,'hepatitis_b'] = developing_mean\n",
    "\n",
    "# the rest will be front filled:\n",
    "column = ['hepatitis_b']\n",
    "raw_data.loc[:,column] = raw_data.loc[:,column].ffill()"
   ],
   "metadata": {
    "collapsed": false,
    "pycharm": {
     "name": "#%%\n"
    }
   }
  },
  {
   "cell_type": "markdown",
   "source": [
    "#### BMI"
   ],
   "metadata": {
    "collapsed": false,
    "pycharm": {
     "name": "#%% md\n"
    }
   }
  },
  {
   "cell_type": "code",
   "execution_count": 14,
   "outputs": [],
   "source": [
    "# import matplotlib.pyplot as plt\n",
    "# raw_data[raw_data['bmi'].isnull()].describe().T\n",
    "# raw_data[raw_data['bmi'].isnull()]\n",
    "# plt.boxplot(raw_data['bmi'])\n",
    "# plt.show()\n",
    "\n",
    "#Dropping all column due too many outliers\n",
    "raw_data.drop('bmi',axis=1, inplace=True)\n"
   ],
   "metadata": {
    "collapsed": false,
    "pycharm": {
     "name": "#%%\n"
    }
   }
  },
  {
   "cell_type": "markdown",
   "source": [
    "#### Polio"
   ],
   "metadata": {
    "collapsed": false,
    "pycharm": {
     "name": "#%% md\n"
    }
   }
  },
  {
   "cell_type": "code",
   "execution_count": 15,
   "outputs": [],
   "source": [
    "# raw_data[raw_data['polio'].isnull()].describe().T\n",
    "# raw_data[raw_data['polio'].isnull()]\n",
    "# raw_data.boxplot(column='polio', return_type='axes')\n",
    "\n",
    "column = ['polio']\n",
    "raw_data.loc[:,column] = raw_data.loc[:,column].ffill()"
   ],
   "metadata": {
    "collapsed": false,
    "pycharm": {
     "name": "#%%\n"
    }
   }
  },
  {
   "cell_type": "markdown",
   "source": [
    "#### Total Expenditure"
   ],
   "metadata": {
    "collapsed": false,
    "pycharm": {
     "name": "#%% md\n"
    }
   }
  },
  {
   "cell_type": "code",
   "execution_count": 16,
   "outputs": [],
   "source": [
    "#raw_data[raw_data['total_expenditure'].isnull()]"
   ],
   "metadata": {
    "collapsed": false,
    "pycharm": {
     "name": "#%%\n"
    }
   }
  },
  {
   "cell_type": "markdown",
   "source": [
    "Note that beside \"Democratic People's Republic of Korea\" which miss almost all of it values, most of the countries miss only at 2015. So we can back-fill them."
   ],
   "metadata": {
    "collapsed": false,
    "pycharm": {
     "name": "#%% md\n"
    }
   }
  },
  {
   "cell_type": "code",
   "execution_count": 17,
   "outputs": [],
   "source": [
    "raw_data.drop(raw_data[raw_data['country']== \"Democratic People's Republic of Korea\"].index)\n",
    "column = ['total_expenditure']\n",
    "raw_data.loc[:,column] = raw_data.loc[:,column].bfill()"
   ],
   "metadata": {
    "collapsed": false,
    "pycharm": {
     "name": "#%%\n"
    }
   }
  },
  {
   "cell_type": "markdown",
   "source": [
    "#### Diphtheria"
   ],
   "metadata": {
    "collapsed": false,
    "pycharm": {
     "name": "#%% md\n"
    }
   }
  },
  {
   "cell_type": "code",
   "execution_count": 18,
   "outputs": [],
   "source": [
    "# raw_data[raw_data['diphtheria'].isnull()]\n",
    "column = ['diphtheria']\n",
    "raw_data.loc[:,column] = raw_data.loc[:,column].ffill()"
   ],
   "metadata": {
    "collapsed": false,
    "pycharm": {
     "name": "#%%\n"
    }
   }
  },
  {
   "cell_type": "markdown",
   "source": [
    "#### GDP"
   ],
   "metadata": {
    "collapsed": false,
    "pycharm": {
     "name": "#%% md\n"
    }
   }
  },
  {
   "cell_type": "code",
   "execution_count": 19,
   "outputs": [],
   "source": [
    "# raw_data[raw_data['gdp'].isnull()]"
   ],
   "metadata": {
    "collapsed": false,
    "pycharm": {
     "name": "#%%\n"
    }
   }
  },
  {
   "cell_type": "markdown",
   "source": [
    "There are some critical countries missing this important variable (USA for example). One option is just remove it. But notice that all countries missing gdp are missing at all 15 observations. That hint us to back-fill them deviding to status:"
   ],
   "metadata": {
    "collapsed": false,
    "pycharm": {
     "name": "#%% md\n"
    }
   }
  },
  {
   "cell_type": "code",
   "execution_count": 20,
   "outputs": [],
   "source": [
    "#calculating mean to fill\n",
    "developing_mean = raw_data[raw_data['status'] == 'Developing'].mean(skipna=True, numeric_only=True).gdp\n",
    "developed_mean = raw_data[raw_data['status']== 'Developed'].mean(skipna=True, numeric_only=True).gdp\n",
    "# catching rows with null\n",
    "rows_gdp_null_developing = raw_data[(raw_data['gdp'].isnull()) & (raw_data['status'] == 'Developing')].index\n",
    "rows_gdp_null_developed = raw_data[(raw_data['gdp'].isnull()) & (raw_data['status'] == 'Developed')].index\n",
    "#back-filling:\n",
    "for row in rows_gdp_null_developing:\n",
    "    raw_data.at[row,'gdp'] = developing_mean\n",
    "for row in rows_gdp_null_developed:\n",
    "    raw_data.at[row,'gdp'] = developed_mean"
   ],
   "metadata": {
    "collapsed": false,
    "pycharm": {
     "name": "#%%\n"
    }
   }
  },
  {
   "cell_type": "markdown",
   "source": [
    "#### Population"
   ],
   "metadata": {
    "collapsed": false,
    "pycharm": {
     "name": "#%% md\n"
    }
   }
  },
  {
   "cell_type": "code",
   "execution_count": 21,
   "outputs": [],
   "source": [
    "#raw_data[raw_data['population'].isnull()]"
   ],
   "metadata": {
    "collapsed": false,
    "pycharm": {
     "name": "#%%\n"
    }
   }
  },
  {
   "cell_type": "markdown",
   "source": [
    "Population is data type which is indepedent of status, and hard to impute\n",
    "\n",
    "Therefore I decided to drop the column itself\n"
   ],
   "metadata": {
    "collapsed": false,
    "pycharm": {
     "name": "#%% md\n"
    }
   }
  },
  {
   "cell_type": "code",
   "execution_count": 22,
   "outputs": [],
   "source": [
    "raw_data.drop('population', axis=1, inplace=True)"
   ],
   "metadata": {
    "collapsed": false,
    "pycharm": {
     "name": "#%%\n"
    }
   }
  },
  {
   "cell_type": "markdown",
   "source": [
    "#### Thinness"
   ],
   "metadata": {
    "collapsed": false,
    "pycharm": {
     "name": "#%% md\n"
    }
   }
  },
  {
   "cell_type": "code",
   "execution_count": 23,
   "outputs": [],
   "source": [
    "# raw_data[raw_data['thinness_1_19_years'].isnull()]\n",
    "# raw_data[raw_data['thinness_5_9_years'].isnull()]"
   ],
   "metadata": {
    "collapsed": false,
    "pycharm": {
     "name": "#%%\n"
    }
   }
  },
  {
   "cell_type": "markdown",
   "source": [
    "Same way, filling with mean calculated respect to developing countries:"
   ],
   "metadata": {
    "collapsed": false,
    "pycharm": {
     "name": "#%% md\n"
    }
   }
  },
  {
   "cell_type": "code",
   "execution_count": 24,
   "outputs": [],
   "source": [
    "deve_mean_1_19 = raw_data[raw_data['status'] == 'Developing'].mean(skipna=True, numeric_only=True).thinness_1_19_years\n",
    "raw_data['thinness_1_19_years'] = raw_data['thinness_1_19_years'].fillna(deve_mean_1_19)\n",
    "\n",
    "deve_mean_5_9 = raw_data[raw_data['status']== 'Developed'].mean(skipna=True, numeric_only=True).thinness_5_9_years\n",
    "raw_data['thinness_5_9_years'] = raw_data['thinness_5_9_years'].fillna(deve_mean_5_9)"
   ],
   "metadata": {
    "collapsed": false,
    "pycharm": {
     "name": "#%%\n"
    }
   }
  },
  {
   "cell_type": "markdown",
   "source": [
    "##### Income composition of resources & Schooling"
   ],
   "metadata": {
    "collapsed": false,
    "pycharm": {
     "name": "#%% md\n"
    }
   }
  },
  {
   "cell_type": "code",
   "execution_count": 25,
   "outputs": [],
   "source": [
    "#raw_data[raw_data['income_composition_of_resources'].isnull()]"
   ],
   "metadata": {
    "collapsed": false,
    "pycharm": {
     "name": "#%%\n"
    }
   }
  },
  {
   "cell_type": "markdown",
   "source": [
    "Note that if one miss it's income values, it is also has NA at schooling. So we can fill them together similarly to GDP column:"
   ],
   "metadata": {
    "collapsed": false,
    "pycharm": {
     "name": "#%% md\n"
    }
   }
  },
  {
   "cell_type": "code",
   "execution_count": 26,
   "outputs": [],
   "source": [
    "country_index_d = raw_data[(raw_data['income_composition_of_resources'].isnull())].index\n",
    "\n",
    "developing_income_mean = raw_data[raw_data['status']=='Developing'].mean(skipna=True, numeric_only=True).income_composition_of_resources\n",
    "developing_school_mean = raw_data[raw_data['status']=='Developing'].mean(skipna=True, numeric_only=True).schooling\n",
    "\n",
    "developed_income__mean = raw_data[raw_data['status']=='Developed'].mean(skipna=True, numeric_only=True).income_composition_of_resources\n",
    "developed_school__mean = raw_data[raw_data['status']=='Developed'].mean(skipna=True, numeric_only=True).schooling\n",
    "\n",
    "for i in country_index_d:\n",
    "    if raw_data['status'][i] == 'Developed':\n",
    "        raw_data.at[i, 'income_composition_of_resources'] = developed_income__mean\n",
    "        raw_data.at[i, 'schooling'] = developed_school__mean\n",
    "    if raw_data['status'][i] == 'Developing':\n",
    "        raw_data.at[i, 'income_composition_of_resources'] = developing_income_mean\n",
    "        raw_data.at[i, 'schooling'] = developing_school_mean"
   ],
   "metadata": {
    "collapsed": false,
    "pycharm": {
     "name": "#%%\n"
    }
   }
  },
  {
   "cell_type": "markdown",
   "source": [
    "After all of this cleaning, SANITY CHECK:"
   ],
   "metadata": {
    "collapsed": false,
    "pycharm": {
     "name": "#%% md\n"
    }
   }
  },
  {
   "cell_type": "code",
   "execution_count": 27,
   "outputs": [
    {
     "data": {
      "text/plain": "country                            0\nyear                               0\nstatus                             0\nlife_expectancy                    0\nadult_mortality                    0\ninfant_deaths                      0\nalcohol                            0\npercentage_expenditure             0\nhepatitis_b                        0\nmeasles                            0\nunder-five deaths                  0\npolio                              0\ntotal_expenditure                  0\ndiphtheria                         0\nhiv/aids                           0\ngdp                                0\nthinness_1_19_years                0\nthinness_5_9_years                 0\nincome_composition_of_resources    0\nschooling                          0\ndtype: int64"
     },
     "execution_count": 27,
     "metadata": {},
     "output_type": "execute_result"
    }
   ],
   "source": [
    "raw_data.isnull().sum()"
   ],
   "metadata": {
    "collapsed": false,
    "pycharm": {
     "name": "#%%\n"
    }
   }
  },
  {
   "cell_type": "code",
   "execution_count": 28,
   "outputs": [],
   "source": [
    "raw_data.to_csv('Life_expec_cleaned.csv',index = False)"
   ],
   "metadata": {
    "collapsed": false,
    "pycharm": {
     "name": "#%%\n"
    }
   }
  }
 ],
 "metadata": {
  "kernelspec": {
   "display_name": "Python 3 (ipykernel)",
   "language": "python",
   "name": "python3"
  },
  "language_info": {
   "codemirror_mode": {
    "name": "ipython",
    "version": 3
   },
   "file_extension": ".py",
   "mimetype": "text/x-python",
   "name": "python",
   "nbconvert_exporter": "python",
   "pygments_lexer": "ipython3",
   "version": "3.10.4"
  }
 },
 "nbformat": 4,
 "nbformat_minor": 1
}